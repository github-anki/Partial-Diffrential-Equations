{
  "nbformat": 4,
  "nbformat_minor": 0,
  "metadata": {
    "colab": {
      "name": "PDEs_Szymanek_Kowalczyk.ipynb",
      "provenance": [],
      "collapsed_sections": []
    },
    "kernelspec": {
      "name": "python3",
      "display_name": "Python 3"
    }
  },
  "cells": [
    {
      "cell_type": "markdown",
      "metadata": {
        "id": "dCW3w0HB6wic",
        "colab_type": "text"
      },
      "source": [
        "\n",
        "# Method of lines for hyperbolic-parabolic partial differential equations\n",
        "\n",
        "---\n",
        "\n"
      ]
    },
    {
      "cell_type": "markdown",
      "metadata": {
        "id": "eB10v0b961WK",
        "colab_type": "text"
      },
      "source": [
        "A project created during the course Partial Differential Equations in summer semester of academic year 2019/2020 by Anna Szymanek and Maria Kowalczyk."
      ]
    },
    {
      "cell_type": "markdown",
      "metadata": {
        "id": "NWRj1WKy6_Qo",
        "colab_type": "text"
      },
      "source": [
        "The subject of our work will be a short theoretical introduction to hyperbolic partial differential equations and its applications, description of chosen numerical method of solving PDEs, which in our case is Method of Lines (MOL), implementation of this method and discussion of the results obtained while making the project. \n",
        "\n",
        "Let us begin with a brief theoretical introduction regarding hyperbolic partial differential equations and PDEs in general. A complete PDE problem can be solved by finding function $u(x, t)$, which is a function that defines the dependent variable as a function of the independent variables. Such a function should satisfy simultanously both PDE and its auxiliary conditions (IC and BCs). Solution can be divided into two groups: first would be an exact analytical solution and second would be (usually) approximate numerical solution. This second type of solution is often derived while solving realistic PDE problems in science and engineering, because generally analytical solutions are difficult to derive mathematically for all but the simplest PDE problems. However we have to keep in mind that the numerical approach sometimes is very demanding and there are substantial differences in numerical methods' performance. \n",
        "Partial differential equations can be divided into 3 elementary groups: parabolic, hyperbolic and elliptic. \n",
        "\n",
        "Probably the best known hyperbolic equation is wave equation $-$ second-order hyperbolic equation $-$ given by the following formula: $$\\frac{\\partial^2 u}{\\partial t^2}=c\\frac{\\partial^2 u}{\\partial x^2},$$ where:\n",
        "x $-$ boundary-value (spatial) independent variable, \n",
        "t $-$ initial-value independent variable,\n",
        "c $-$ the velocity of wave propagation. Because this equation is a second order equation both in x and t, it requires two initial conditions (ICs) and two boundary conditions (BCs). Importent question regarding hyperbolic type of equations is possibility of dicontinuities at the boundaries, which can be produced for example by differences in ICs and BCs at the boundaries. Such thing can lead to computational difficulties. \n",
        "Another hyperbolic equation $-$ first-order equation, called advection equation, is given by the following formula:\n",
        "$$\\frac{\\partial u}{\\partial t}=-v\\frac{\\partial u}{\\partial x},$$ where $v$ is a linear or flow velocity. Although this equation is possibly the simplest PDE, this simplicity is misleading, because it can be very difficult to integrate numerically since it propagates discontinuities, a specific feature of first-order hyperbolic equations.\n",
        "\n",
        "Best known example of parabolic equations is heat equation, which in one dimension is given by the formula:\n",
        "$$\\frac{\\partial u}{\\partial t}=\\alpha\\frac{\\partial^2 u}{\\partial x^2},$$\n",
        "where $\\alpha$ is the diffusivity of the medium.\n",
        "If a PDE has coefficients that are not constant, it is possible that it will not belong to any of these categories but rather be of mixed type. For example $$\\frac{\\partial u}{\\partial t}=-v\\frac{\\partial u}{\\partial x}+D\\frac{\\partial^2 u}{\\partial x^2}$$ \n",
        "is a hyperbolic-parabolic equation, called convective diffusion equation too. The number of required initial and boundary conditions is determined by the highest order derivative in each independent variable. \n",
        "Those differential equations combined with different auxiliary conditions provide us a wide range of problems to solve.\n",
        "\n",
        "Next, we would like to introduce one of the numerical approaches to solving partial differential equations: method of lines. First of all: it is not a strict and clearly defined procedure, but rather a general approach, that has to be precisely specified for each PDE problem. In shortcut, it is a technique in which all but one dimension is discretized. It is a flexible, open-ended approach that is limited only by the ingenuity of the analyst. Therefore it can be widely used in science and engineering. It is a technique for numerically solving partial differential equations. It involves the spatial discretization of a given equation (most often using the finite difference method), which leads to a system of ordinary differential equations on a spatial grid that can be integrated over time. System of simultanenous ODEs obtained with MOL can then be integrated by any of the ODE integration methods: Euler's method, Runge–Kutta–Fehlberg method, backward differentiation formula etc. We used the first of them, so we would like to introduce it shortly. It is a first-order numerical procedure for solving ordinary differential equations with a given initial value. It is the most basic explicit method for numerical integration of ordinary differential equations. This method uses the following formula: $$y_{n+1}=y_n+h f(x_n,y_n),$$ which advences a solution from $x_n$ to $x_{n+1}=x_n + h.$\n"
      ]
    },
    {
      "cell_type": "code",
      "metadata": {
        "id": "YgTTdOwxO_o0",
        "colab_type": "code",
        "colab": {}
      },
      "source": [
        "import imageio\n",
        "import numpy as np\n",
        "import matplotlib.pyplot as plt\n",
        "plt.ioff()"
      ],
      "execution_count": 0,
      "outputs": []
    },
    {
      "cell_type": "markdown",
      "metadata": {
        "id": "0VrY-CRto0hQ",
        "colab_type": "text"
      },
      "source": [
        "# Example - Nonisothermal Tubular Reactor"
      ]
    },
    {
      "cell_type": "markdown",
      "metadata": {
        "id": "M2jzAlGro3NE",
        "colab_type": "text"
      },
      "source": [
        "A tubular reactor, as depicted in the accompanying diagram, has a\n",
        "significant heat effect so that cooling at the wall is being considered\n",
        "to remove the heat of reaction.\n",
        "\n",
        "Consequently, significant radial heat and concentration profiles develop. The reactor is therefore modeled in terms of radial position,\n",
        "axial position and time; since there are three independent variables,\n",
        "we will use PDEs.\n",
        "\n",
        "Our objective in this analayis is to determine what comes out of the\n",
        "reactor, i.e., the average concentrations and temperature, so that\n",
        "we can determine if it achieves the required operating performance.\n",
        "To do this, we construct a mathematical model.\n"
      ]
    },
    {
      "cell_type": "markdown",
      "metadata": {
        "id": "AFC8SJg0waGV",
        "colab_type": "text"
      },
      "source": [
        "![reactor](https://raw.githubusercontent.com/github-anki/PDE/master/reactor.png) \n",
        "\n",
        "Fig.1 Schema of the reactor"
      ]
    },
    {
      "cell_type": "markdown",
      "metadata": {
        "id": "Ds-WO20-4mRI",
        "colab_type": "text"
      },
      "source": [
        "### Material balance"
      ]
    },
    {
      "cell_type": "markdown",
      "metadata": {
        "id": "PDWXj6ROuaBC",
        "colab_type": "text"
      },
      "source": [
        "$$ 2 \\pi r \\Delta r \\Delta z \\frac{\\delta c_a}{\\delta t} = 2 \\pi r \\Delta z q_m |_r - 2 \\pi ( r + \\Delta r )  \\Delta z q_m |_{r+\\Delta r} + 2 \\pi r \\Delta r v c_a |_{z+\\Delta z} - 2 \\pi r \\Delta r v c_a |_z - 2 \\pi r \\Delta r \\Delta z k_r c^2_a$$"
      ]
    },
    {
      "cell_type": "markdown",
      "metadata": {
        "id": "6iLtfEzFwlvo",
        "colab_type": "text"
      },
      "source": [
        "After division by $2 \\pi r \\Delta r\\Delta z$:\n",
        "$$\\frac{\\delta c_a}{\\delta t}=-\\frac{(r+ \\Delta r)q_m|_{r+\\Delta r} - rq_m|_r}{r+\\Delta r} - v \\frac{c_a|_z - c_a|_{z- \\Delta z}}{\\Delta z} - k_r c_a^2.$$"
      ]
    },
    {
      "cell_type": "markdown",
      "metadata": {
        "id": "3J-9rK_LzJ3v",
        "colab_type": "text"
      },
      "source": [
        "Now, we get the limit $r \\rightarrow 0, \\Delta z \\rightarrow 0:$\n",
        "$$\\frac{\\delta c_a}{\\delta t} = -\\frac{1}{r} \\frac{\\delta (r q_m)}{\\delta r} - v\\frac{\\delta c_a}{\\delta z} - k_r c_a^2.$$"
      ]
    },
    {
      "cell_type": "markdown",
      "metadata": {
        "id": "YEzsD1Om2_YK",
        "colab_type": "text"
      },
      "source": [
        "We use Fick-s first law for the flux with constant diffusivity D:\n",
        "$$q_m = -D \\frac{\\delta c_a}{\\delta r}.$$"
      ]
    },
    {
      "cell_type": "markdown",
      "metadata": {
        "id": "u2rlbguM3Vpl",
        "colab_type": "text"
      },
      "source": [
        "After some calculations, we obtain:\n",
        "$$\\frac{\\delta c_a}{\\delta t} = D( \\frac{\\delta^2 c_a}{\\delta r^2} + \\frac{\\delta c_a}{r \\delta r}) - v\\frac{\\delta c_a}{\\delta z} - k_r c_a^2.$$\n",
        "This is the required material balance for $c_a(r,z,t). $ This is a hyperbolic-parabolic type of equation."
      ]
    },
    {
      "cell_type": "markdown",
      "metadata": {
        "id": "XH4SNkPRBdAU",
        "colab_type": "text"
      },
      "source": [
        "This equation requires one initial condition two boundary conditions in r and one boundary condition in z.\n",
        "$$c_a(r,z,0) = 0$$\n",
        "$$\\frac{\\delta c_a(0,z,t)}{\\delta r} = 0 $$\n",
        "$$\\frac{\\delta c_a(r_0,z,t)}{\\delta r} = 0$$\n",
        "$$c_a(r,0,t) = c_{a0}$$"
      ]
    },
    {
      "cell_type": "markdown",
      "metadata": {
        "id": "7hzM34HG4qja",
        "colab_type": "text"
      },
      "source": [
        "### Energy balance"
      ]
    },
    {
      "cell_type": "markdown",
      "metadata": {
        "id": "eZuZSExr4suB",
        "colab_type": "text"
      },
      "source": [
        "$$ 2 \\pi r \\Delta r \\Delta z \\rho C_p \\frac{\\delta T}{\\delta t} = 2 \\pi r \\Delta z q_h |_r - 2 \\pi ( r + \\Delta r )  \\Delta z q_h |_{r+\\Delta r} + 2 \\pi r \\Delta r v \\rho C_p T |_{z-\\Delta z} - 2 \\pi r \\Delta r v \\rho C_p T |_z - \\Delta H 2\\pi r \\Delta r \\Delta z k_r c^2_a$$"
      ]
    },
    {
      "cell_type": "markdown",
      "metadata": {
        "id": "DPfipLt85d6P",
        "colab_type": "text"
      },
      "source": [
        "Like previous, we division by $2 \\pi r \\Delta r \\Delta z \\rho C_p$ and take limit $\\Delta r \\rightarrow 0, \\Delta z \\rightarrow 0:$\n",
        "$$\\frac{\\delta T}{\\delta t} = -\\frac{1}{\\rho C_p r}\\frac{\\delta (rq_h)}{\\delta r} - v \\frac{\\delta T}{\\delta z}-\\frac{\\Delta H k_r}{\\rho C_p}c_a^2.$$"
      ]
    },
    {
      "cell_type": "markdown",
      "metadata": {
        "id": "umnYzaoN8N_D",
        "colab_type": "text"
      },
      "source": [
        "We use Fourier's first law for the flux with a constant conductivity k:\n",
        "$$q_h = -k \\frac{\\delta T}{\\delta r}.$$"
      ]
    },
    {
      "cell_type": "markdown",
      "metadata": {
        "id": "lxj0e2z68t6_",
        "colab_type": "text"
      },
      "source": [
        "After calculations we obtain:\n",
        "$$\\frac{\\delta T}{\\delta t} = \\frac{k}{\\rho C_p}(\\frac{\\delta^2 T}{\\delta r^2}+\\frac{\\delta T}{r\\delta r}) - v\\frac{\\delta T}{\\delta z} - \\frac{\\Delta H k_r}{\\rho C_p}c_a^2.$$\n",
        "This is the required energy balance for $T(r,z,t).$ This is a hyperbolic-parabolic type of equation."
      ]
    },
    {
      "cell_type": "markdown",
      "metadata": {
        "id": "fAE8-2DRCk6c",
        "colab_type": "text"
      },
      "source": [
        "This equation requires one initial condition, two boundary conditions in r and one boundary condition in z.\n",
        "$$T(r,z,0) = T_0$$\n",
        "$$\\frac{\\delta T(0,z,t)}{\\delta r} = 0$$\n",
        "$$T(r_0,z,t) = T_w$$\n",
        "$$T(r,0,t) = T_0$$"
      ]
    },
    {
      "cell_type": "markdown",
      "metadata": {
        "id": "0pJKcIcx91an",
        "colab_type": "text"
      },
      "source": [
        "###Rate constant"
      ]
    },
    {
      "cell_type": "markdown",
      "metadata": {
        "id": "b4xzEEu2934R",
        "colab_type": "text"
      },
      "source": [
        "The reaction rate constant is given by:\n",
        "$$k_r = k_0 e^{(-E/(RT))}$$"
      ]
    },
    {
      "cell_type": "markdown",
      "metadata": {
        "id": "AZ-mp5Bz-L7-",
        "colab_type": "text"
      },
      "source": [
        "## Simulation"
      ]
    },
    {
      "cell_type": "markdown",
      "metadata": {
        "id": "8HvqBmm9ES-3",
        "colab_type": "text"
      },
      "source": [
        "The solution to this problem are the dependent variables $(c_a(r, z, t), T (r, z, t))$ as a function of the independent variables $(r, z, t)$.\n",
        "\n",
        "Since we are intertested in the exiting conditions, we will compute $c_a(r, z_l, t), T(r, z_l, t)$.\n",
        "Also, there may be significant radial profiles at the exit, so we will also compute the integrals:\n",
        "$$c_{a_{avg}} (t) = \\int ^{r_0}_{0} 2 \\pi r c_a(r,z,t) dr / (\\pi r_0^2)$$\n",
        "$$T_{avg} (t) = \\int ^{r_0}_{0} 2 \\pi r T(r,z,t) dr / (\\pi r_0^2)$$"
      ]
    },
    {
      "cell_type": "markdown",
      "metadata": {
        "id": "jKLS7jQWFjig",
        "colab_type": "text"
      },
      "source": [
        "This problem includes 2-D PDEs, transcendental equations and\n",
        "integrals. Because of its complexity (number of equations and their nonlinearity), an analytical solution is precluded we must use numerical methods.\n",
        "\n",
        "We use MOL for the solution of the preceding problem."
      ]
    },
    {
      "cell_type": "markdown",
      "metadata": {
        "id": "faet5s3m-aT4",
        "colab_type": "text"
      },
      "source": [
        "The constants for this problem:\n",
        "* $c_a$ - reactant concentration (solution to first equation)\n",
        "* T - temperature (solution to second equation)\n",
        "* $k_r$ - reaction rate constant\n",
        "* t - time\n",
        "* r - radial position\n",
        "* z - axial position\n",
        "* $\\Delta H$ - heat of reaction \n",
        "\n",
        "\n"
      ]
    },
    {
      "cell_type": "code",
      "metadata": {
        "id": "Na_fKbPuvEq6",
        "colab_type": "code",
        "colab": {}
      },
      "source": [
        "#############\n",
        "# CONSTANTS #\n",
        "#############\n",
        "\n",
        "ca0 = 0.01    # initial reactant concentration\n",
        "T0 = 305.0    # initial temperature\n",
        "r0 = 2.0      # initial radial position\n",
        "xl = 100.0    # reactor length\n",
        "v = 1.0       # linear velocity\n",
        "D = 0.1       # mass diffusivity\n",
        "alpha = 0.1   # thermal diffusivity alpha = k/(rho*Cp)\n",
        "rho = 1.0     # liquid density\n",
        "Cp = 0.5      # liquid specific heat\n",
        "dH = -10000.0 # heat of reaction\n",
        "E = 15000.0   # activation energy\n",
        "R = 1.987     # gas constant"
      ],
      "execution_count": 0,
      "outputs": []
    },
    {
      "cell_type": "code",
      "metadata": {
        "id": "lPR5lSMf4ikG",
        "colab_type": "code",
        "colab": {}
      },
      "source": [
        "def simulation(rk0, Tw, tf=300, nx=41, nr=11, nout=100):\n",
        "  \"\"\"\n",
        "  rk0 - raction rate constant\n",
        "  Tw - wall temperature\n",
        "  tf - end time of simulation\n",
        "  nx - number of points for z axis (must be odd)\n",
        "  nr - number of points for r axis (must be odd)\n",
        "  nout - number of Euler steps\n",
        "  \"\"\"\n",
        "  # Variables to store partial results.\n",
        "  history_T = []\n",
        "  history_ca = []\n",
        "\n",
        "  ##########################\n",
        "  # INITIALIZATION OF GRID #\n",
        "  ##########################\n",
        "\n",
        "   # Radial direction grid\n",
        "  dr = r0/(nr-1)\n",
        "  r = np.arange(0,nr)*dr\n",
        "  drs = dr**2\n",
        "  \n",
        "  # Axial direction grid\n",
        "  dx = xl/(nx-1)\n",
        "  x = np.arange(0,nx)*dx\n",
        " \n",
        "  ###################################################\n",
        "  # INITIALIZATION OF TEMPERATURE AND CONCENTRATION #\n",
        "  ###################################################\n",
        "  ca = np.zeros((nr,nx))\n",
        "  T = np.ones((nr,nx))*T0\n",
        "\n",
        "  # Derivatives\n",
        "  ca_t = np.zeros((nr, nx))\n",
        "  T_t = np.zeros((nr, nx))\n",
        "\n",
        "  # Initial time and step\n",
        "  t = 0.0\n",
        "  h = 0.1\n",
        "\n",
        "  # Integrate until t = tf\n",
        "  while (t <= tf):\n",
        "    '''\n",
        "    for i in range(nr):\n",
        "      print(t, ca[i, -1], T[i, -1])\n",
        "    print('-'*40)\n",
        "    '''\n",
        "    \n",
        "    # Take nout Euler steps\n",
        "    for _ in range(nout):\n",
        "      # Entering conditions (x = 0)\n",
        "      ca[:, 0] = ca0\n",
        "      ca_t[:, 0] = 0\n",
        "\n",
        "      T[:, 0] = T0\n",
        "      T_t[:, 0] = 0\n",
        "\n",
        "      # Rest of reactor\n",
        "      for j in range(1, nx):\n",
        "        # Centerline (r = 0)\n",
        "        rk = rk0 * np.exp(-E/(R*T[0, j]))\n",
        "        ca_t[0, j] = -v * (ca[0, j] - ca[0, j-1])/dx + 4.0*D*(ca[1, j]-ca[0, j])/drs-rk*ca[0, j]**2\n",
        "        T_t[0, j] = -v*(T[0, j]-T[0, j-1])/dx + 4.0*alpha*(T[1, j]-T[0, j])/drs - dH*rk/(rho*Cp)*ca[0, j]**2\n",
        "\n",
        "        # Wall (r = r0)\n",
        "        rk = rk0 * np.exp(-E/(R*Tw))\n",
        "        ca_t[-1 ,j] = -v*(ca[-1,j]-ca[-1,j-1])/dx + 2.0*D*(ca[-2,j]-ca[-1,j])/drs - rk*ca[-1,j]**2\n",
        "        T[-1 ,j] = Tw\n",
        "        T_t[-1 ,j] = 0\n",
        "\n",
        "        # Interior, r ~= 0 and r ~= r0\n",
        "        rk = rk0*np.exp(-E/(R*T[1:-1,j]))\n",
        "        ca_t[1:-1, j] = -v*(ca[1:-1, j] - ca[1:-1, j-1])/dx + D*(ca[2:, j] - 2.0*ca[1:-1, j] + ca[:-2, j])/drs + D*(1.0/r[1:-1]*(ca[2:, j] - ca[:-2, j]))/(2.0*dr) - rk*ca[1:-1, j]**2\n",
        "        T_t[1:-1, j] = -v*(T[1:-1, j] - T[1:-1, j-1])/dx + alpha*(T[2:, j] - 2.0*T[1:-1, j] + T[:-2, j])/drs + alpha*(1.0/r[1:-1]*(T[2:, j] - T[:-2, j]))/(2.0*dr) - dH*rk/(rho*Cp)*ca[1:-1, j]**2\n",
        "\n",
        "      ca += ca_t*h\n",
        "      T += T_t*h\n",
        "      t += h\n",
        "\n",
        "    history_T.append(T.copy())\n",
        "    history_ca.append(ca.copy()) \n",
        "\n",
        "  return history_ca, history_T"
      ],
      "execution_count": 0,
      "outputs": []
    },
    {
      "cell_type": "code",
      "metadata": {
        "id": "tV35JGElH-tV",
        "colab_type": "code",
        "colab": {}
      },
      "source": [
        "def makegif(history_data):\n",
        "  filenames = []\n",
        "  vmin = min([el.min() for el in history_data])\n",
        "  vmax = max([el.max() for el in history_data])\n",
        "  for idx, el in enumerate(history_data):\n",
        "    fig = plt.figure(figsize = (12, 6))\n",
        "    plt.imshow(el, vmin=vmin, vmax=vmax)\n",
        "    plt.colorbar()\n",
        "    plt.xticks([])\n",
        "    plt.yticks([])\n",
        "    filename = f'img{idx}.png'\n",
        "    plt.savefig(filename)\n",
        "    plt.close(fig)\n",
        "    filenames.append(filename)\n",
        "  with imageio.get_writer('animation.gif', mode='I') as writer:\n",
        "      for filename in filenames:\n",
        "          image = imageio.imread(filename)\n",
        "          writer.append_data(image)\n",
        "  from google.colab import files\n",
        "  files.download('animation.gif')"
      ],
      "execution_count": 0,
      "outputs": []
    },
    {
      "cell_type": "markdown",
      "metadata": {
        "id": "HKv_kvJ2Qwzc",
        "colab_type": "text"
      },
      "source": [
        "### Case 1 - Cooled reactor wall"
      ]
    },
    {
      "cell_type": "code",
      "metadata": {
        "id": "xZE47o9OQ2yc",
        "colab_type": "code",
        "colab": {}
      },
      "source": [
        "rk01 = 1.5*(10**9) #Low reaction rate constant\n",
        "Tw1 = 305.0\n",
        "history_ca1, history_T1 = simulation(rk01, Tw1, tf = 100, nout=10)"
      ],
      "execution_count": 0,
      "outputs": []
    },
    {
      "cell_type": "code",
      "metadata": {
        "id": "_NP__uZzTROE",
        "colab_type": "code",
        "colab": {}
      },
      "source": [
        "makegif(history_ca1)"
      ],
      "execution_count": 0,
      "outputs": []
    },
    {
      "cell_type": "code",
      "metadata": {
        "id": "ZjZzun4e4NNW",
        "colab_type": "code",
        "colab": {}
      },
      "source": [
        "makegif(history_T1)"
      ],
      "execution_count": 0,
      "outputs": []
    },
    {
      "cell_type": "markdown",
      "metadata": {
        "id": "kBwa6AAMQzKk",
        "colab_type": "text"
      },
      "source": [
        "### Case 2 - Heated reactor wall"
      ]
    },
    {
      "cell_type": "code",
      "metadata": {
        "id": "oGIE0DZ90dCr",
        "colab_type": "code",
        "colab": {}
      },
      "source": [
        "rk02 = 2.0*(10**9) #High reaction rate constant\n",
        "Tw2 = 355.0\n",
        "history_ca2, history_T2 = simulation(rk02, Tw2, tf = 100, nout=10)\n"
      ],
      "execution_count": 0,
      "outputs": []
    },
    {
      "cell_type": "code",
      "metadata": {
        "id": "MWJhV17nRgfl",
        "colab_type": "code",
        "colab": {}
      },
      "source": [
        "makegif(history_ca2)"
      ],
      "execution_count": 0,
      "outputs": []
    },
    {
      "cell_type": "code",
      "metadata": {
        "id": "5XDnxgV-RlQ1",
        "colab_type": "code",
        "colab": {}
      },
      "source": [
        "makegif(history_T2)"
      ],
      "execution_count": 0,
      "outputs": []
    },
    {
      "cell_type": "markdown",
      "metadata": {
        "id": "IedYdYR4q2jM",
        "colab_type": "text"
      },
      "source": [
        "**Summary**\n",
        "\n",
        "Studying all types of differential equations is a wide area in pure and applied mathematics, physics, engineering and many other fields. Differential equations play an important role in modeling almost any physical, technical or biological process. All these disciplines relate to the properties of different types of differential equations. Then it's no wonder, that applied mathematics puts emphasis on getting the most accurate solutions using wide range of numerical methods. Although we believe its great application in almost every area of life makes it an extremely necessary area of science, we also realize, that it is very demanding and that it requires deep understanding. Taking it into consideration, using all available literature and sources, we did our best to present the topic in an interesting way and grasp as much as we could. "
      ]
    },
    {
      "cell_type": "markdown",
      "metadata": {
        "id": "UeNEsVVXqJNA",
        "colab_type": "text"
      },
      "source": [
        "**Bibliography**\n",
        "\n",
        "1.   *A Compendium of Partial Differential Equation Models: Method of Lines Analysis with Matlab*, William E. Schiesser and Graham W. Griffiths, Cambridge University Press, 2009\n",
        "2.   *Partial Differential Equations: Mathematical Techniques for Engineers*, Marcelo Epstein, Springer, 2017\n",
        "3.   *http://www.scholarpedia.org/article/Method_of_lines*, Samir Hamdi, William E. Schiesser, Graham W. Griffiths\n",
        "\n"
      ]
    },
    {
      "cell_type": "code",
      "metadata": {
        "id": "8OSAKaxCr9XD",
        "colab_type": "code",
        "colab": {}
      },
      "source": [
        ""
      ],
      "execution_count": 0,
      "outputs": []
    }
  ]
}